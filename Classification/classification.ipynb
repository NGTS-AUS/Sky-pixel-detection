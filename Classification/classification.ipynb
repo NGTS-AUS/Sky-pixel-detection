{
 "cells": [
  {
   "cell_type": "code",
   "execution_count": 1,
   "metadata": {},
   "outputs": [
    {
     "ename": "ModuleNotFoundError",
     "evalue": "No module named 'tensorflow'",
     "output_type": "error",
     "traceback": [
      "\u001b[0;31m---------------------------------------------------------------------------\u001b[0m",
      "\u001b[0;31mModuleNotFoundError\u001b[0m                       Traceback (most recent call last)",
      "\u001b[0;32m<ipython-input-1-c2aaa1e81da4>\u001b[0m in \u001b[0;36m<module>\u001b[0;34m()\u001b[0m\n\u001b[0;32m----> 1\u001b[0;31m \u001b[0;32mimport\u001b[0m \u001b[0mtensorflow\u001b[0m \u001b[0;32mas\u001b[0m \u001b[0mtf\u001b[0m\u001b[0;34m\u001b[0m\u001b[0m\n\u001b[0m\u001b[1;32m      2\u001b[0m \u001b[0;32mfrom\u001b[0m \u001b[0mtensorflow\u001b[0m\u001b[0;34m.\u001b[0m\u001b[0mexamples\u001b[0m\u001b[0;34m.\u001b[0m\u001b[0mtutorials\u001b[0m\u001b[0;34m.\u001b[0m\u001b[0mmnist\u001b[0m \u001b[0;32mimport\u001b[0m \u001b[0minput_data\u001b[0m\u001b[0;34m\u001b[0m\u001b[0m\n",
      "\u001b[0;31mModuleNotFoundError\u001b[0m: No module named 'tensorflow'"
     ]
    }
   ],
   "source": [
    "import tensorflow as tf\n",
    "from tensorflow.examples.tutorials.mnist import input_data"
   ]
  },
  {
   "cell_type": "code",
   "execution_count": 16,
   "metadata": {},
   "outputs": [],
   "source": [
    "import numpy as np\n",
    "import cv2\n",
    "import math\n",
    "from PIL import Image, ImageStat\n",
    "import sys\n",
    "from os import listdir"
   ]
  },
  {
   "cell_type": "code",
   "execution_count": 27,
   "metadata": {},
   "outputs": [],
   "source": [
    "def convert(dir):\n",
    "    file_list=listdir(dir)\n",
    "    for filename in file_list:\n",
    "        print (filename)\n",
    "        if \"panorama\" in filename:\n",
    "            path=\"\"\n",
    "            path=dir+filename\n",
    "            im=Image.open(path)\n",
    "            out=im.resize((416,208),Image.ANTIALIAS)\n",
    "            print (\"%s has been resized\"%filename)\n",
    "            out.save(path)"
   ]
  },
  {
   "cell_type": "code",
   "execution_count": 7,
   "metadata": {},
   "outputs": [],
   "source": [
    "def get_image(image_path):\n",
    "    \"\"\"\n",
    "    Get a numpy 2D array of an image so that one can access RGBA[x][y] or RGBA[x,y].\n",
    "    \n",
    "    Also get a cropped image for further use for hsv and k-means clustering\n",
    "    \n",
    "    \"\"\"\n",
    "    origin = Image.open(image_path, 'r')\n",
    "    width, height = origin.size\n",
    "    area = (0, 0, width, 0.5*height)\n",
    "    image = origin.crop(area) # crop top half of the image\n",
    "#     result = Image.fromarray(image.astype(np.uint8))\n",
    "    image.save(file+\"_cropped.png\")\n",
    "    width, height = image.size\n",
    "#     print (image.size)\n",
    "    pixel_values = list(image.getdata())\n",
    "    if image.mode == 'RGBA':\n",
    "        channels = 4\n",
    "    elif image.mode == 'L':\n",
    "        channels = 1\n",
    "    else:\n",
    "        print(\"Unknown mode: %s\" % image.mode)\n",
    "        return None\n",
    "#     pixel_values = np.array(pixel_values).reshape((width, height, channels))\n",
    "    pixel_values = np.array(pixel_values).reshape((height, width, channels))\n",
    "#     print (np.shape(pixel_values))\n",
    "\n",
    "    return pixel_values,image,origin #return pixels matrix with RGBA value, and cropped half image"
   ]
  },
  {
   "cell_type": "code",
   "execution_count": 36,
   "metadata": {},
   "outputs": [],
   "source": [
    "def get_bri(pixels):\n",
    "    \"\"\"\n",
    "    Get a numpy 2D array of an image so that one can access brightness[x][y]\n",
    "       \n",
    "    \"\"\"\n",
    "    brightness=[[0 for x in range(len(pixels[0]))] for y in range(len(pixels))]\n",
    "    # Matrix = [[0 for x in range(w)] for y in range(h)]\n",
    "    for i in range(len(pixels)):\n",
    "        for j in range(len(pixels[0])):\n",
    "            R,G,B,A=pixels[i,j]\n",
    "            brightness[i][j]=(0.2126*R + 0.7152*G + 0.0722*B)/255\n",
    "    return brightness"
   ]
  },
  {
   "cell_type": "code",
   "execution_count": 38,
   "metadata": {},
   "outputs": [
    {
     "name": "stdout",
     "output_type": "stream",
     "text": [
      "black cloud\n",
      "2290_-37.80816528711204_144.99900108792806_panorama.png\n",
      "2290_-37.80816528711204_144.99900108792806_panorama.png has been resized\n",
      "origintemp.ipynb\n",
      ".DS_Store\n",
      "0790_-37.80879980770527_144.98194564890238_panorama.png\n",
      "0790_-37.80879980770527_144.98194564890238_panorama.png has been resized\n",
      "Untitled.ipynb\n",
      "1060_-37.80868577546702_144.9850156495497_panorama.png\n",
      "1060_-37.80868577546702_144.9850156495497_panorama.png has been resized\n",
      "Building whtie blue\n",
      "big sky\n",
      "Tree top\n",
      "0820_-37.80878714139091_144.98228676055362_panorama.png\n",
      "0820_-37.80878714139091_144.98228676055362_panorama.png has been resized\n",
      "sky cloud high contrast\n",
      "Book1(AutoRecovered).xlsx\n",
      "A_fast_approach_for_large-scale_Sky_View_Factor_es.pdf\n",
      "Building Top\n",
      ".ipynb_checkpoints\n",
      "0860_-37.80877025144173_144.98274157590654_panorama.png\n",
      "0860_-37.80877025144173_144.98274157590654_panorama.png has been resized\n",
      "~$Book1(AutoRecovered).xlsx\n",
      "firsttemp.ipynb\n"
     ]
    }
   ],
   "source": [
    "path1 = \"/Users/caijieyang/Desktop/newexperiment/\"\n",
    "files= listdir(path1)\n",
    "\n",
    "convert(path1)\n",
    "# Sgray=0.0\n",
    "# for K in range(4, 16):\n",
    "# while Sgray<=1:\n",
    "#     true_po_list=[]\n",
    "#     precision_list=[]\n",
    "#     edge_list=[]\n",
    "    # print (files)\n"
   ]
  },
  {
   "cell_type": "code",
   "execution_count": 39,
   "metadata": {},
   "outputs": [
    {
     "name": "stdout",
     "output_type": "stream",
     "text": [
      "(43264,)\n",
      "(43264,)\n",
      "(43264,)\n",
      "(43264,)\n",
      "(43264,)\n",
      "[0.525126274509804, 0.525126274509804, 0.525126274509804, 0.525126274509804, 0.5212047058823529, 0.5212047058823529, 0.5212047058823529, 0.5172831372549019, 0.5212047058823529, 0.5212047058823529, 0.5212047058823529, 0.5212047058823529, 0.5212047058823529, 0.5212047058823529, 0.5212047058823529, 0.5212047058823529, 0.52456, 0.52456, 0.52456, 0.52456, 0.52456, 0.52456, 0.52456, 0.52456, 0.52456, 0.52456, 0.52456, 0.52456, 0.5206384313725491, 0.5206384313725491, 0.5206384313725491, 0.5206384313725491, 0.525126274509804, 0.525126274509804, 0.525126274509804, 0.525126274509804, 0.525126274509804, 0.525126274509804, 0.525126274509804, 0.525126274509804, 0.525126274509804, 0.525126274509804, 0.525126274509804, 0.525126274509804, 0.5212047058823529, 0.5212047058823529, 0.5212047058823529, 0.5212047058823529, 0.5212047058823529, 0.5212047058823529, 0.5212047058823529, 0.5212047058823529, 0.5212047058823529, 0.5212047058823529, 0.5212047058823529, 0.5212047058823529, 0.5212047058823529, 0.5212047058823529, 0.5212047058823529, 0.5212047058823529, 0.5212047058823529, 0.5212047058823529, 0.5212047058823529, 0.5212047058823529, 0.5212047058823529, 0.5212047058823529, 0.5212047058823529, 0.5212047058823529, 0.525126274509804, 0.525126274509804, 0.525126274509804, 0.525126274509804, 0.525126274509804, 0.525126274509804, 0.525126274509804, 0.525126274509804, 0.525126274509804, 0.525126274509804, 0.525126274509804, 0.525126274509804, 0.5239890196078432, 0.5239890196078432, 0.5239890196078432, 0.5239890196078432, 0.5200674509803922, 0.5200674509803922, 0.5200674509803922, 0.5200674509803922, 0.525126274509804, 0.525126274509804, 0.525126274509804, 0.525126274509804, 0.525126274509804, 0.525126274509804, 0.525126274509804, 0.525126274509804, 0.5290478431372548, 0.5290478431372548, 0.5290478431372548, 0.5290478431372548]\n"
     ]
    }
   ],
   "source": [
    "i=0\n",
    "for file in files:\n",
    "    if \"panorama\" in file:\n",
    "#         file=path1+file\n",
    "        pixels,image,origin=get_image(file)\n",
    "#         print (np.shape(pixels))\n",
    "            # print (pixel1)\n",
    "        brightness=get_bri(pixels)\n",
    "        \n",
    "#             edge_cal(file)\n",
    "        brightness[i]=np.asarray(brightness)\n",
    "        brightness[i]=brightness[i].reshape(-1)\n",
    "        print(np.shape(brightness[i]))\n",
    "        i+=1\n",
    "#         mark_sky(pixels,label2,origin,file,Sgray)\n",
    "print(brightness[0][0:100])"
   ]
  },
  {
   "cell_type": "code",
   "execution_count": null,
   "metadata": {},
   "outputs": [],
   "source": []
  },
  {
   "cell_type": "code",
   "execution_count": 10,
   "metadata": {},
   "outputs": [
    {
     "ename": "NameError",
     "evalue": "name 'input_data' is not defined",
     "output_type": "error",
     "traceback": [
      "\u001b[0;31m---------------------------------------------------------------------------\u001b[0m",
      "\u001b[0;31mNameError\u001b[0m                                 Traceback (most recent call last)",
      "\u001b[0;32m<ipython-input-10-85e0a2aba621>\u001b[0m in \u001b[0;36m<module>\u001b[0;34m()\u001b[0m\n\u001b[1;32m      1\u001b[0m \u001b[0;31m#载入数据集\u001b[0m\u001b[0;34m\u001b[0m\u001b[0;34m\u001b[0m\u001b[0m\n\u001b[0;32m----> 2\u001b[0;31m \u001b[0mmnist\u001b[0m \u001b[0;34m=\u001b[0m \u001b[0minput_data\u001b[0m\u001b[0;34m.\u001b[0m\u001b[0mread_data_sets\u001b[0m\u001b[0;34m(\u001b[0m\u001b[0;34m\"MNIST_data\"\u001b[0m\u001b[0;34m,\u001b[0m\u001b[0mone_hot\u001b[0m\u001b[0;34m=\u001b[0m\u001b[0;32mTrue\u001b[0m\u001b[0;34m)\u001b[0m\u001b[0;34m\u001b[0m\u001b[0m\n\u001b[0m\u001b[1;32m      3\u001b[0m \u001b[0;34m\u001b[0m\u001b[0m\n\u001b[1;32m      4\u001b[0m \u001b[0;31m#每个批次的大小\u001b[0m\u001b[0;34m\u001b[0m\u001b[0;34m\u001b[0m\u001b[0m\n\u001b[1;32m      5\u001b[0m \u001b[0mbatch_size\u001b[0m \u001b[0;34m=\u001b[0m \u001b[0;36m100\u001b[0m\u001b[0;34m\u001b[0m\u001b[0m\n",
      "\u001b[0;31mNameError\u001b[0m: name 'input_data' is not defined"
     ]
    }
   ],
   "source": [
    "#载入数据集\n",
    "mnist = input_data.read_data_sets(\"MNIST_data\",one_hot=True)\n",
    "\n",
    "#每个批次的大小\n",
    "batch_size = 100\n",
    "#计算一共有多少个批次\n",
    "n_batch = mnist.train.num_examples // batch_size\n",
    "\n",
    "#定义两个placeholder\n",
    "x = tf.placeholder(tf.float32,[None,784])\n",
    "y = tf.placeholder(tf.float32,[None,10])\n",
    "\n",
    "#创建一个简单的神经网络\n",
    "W = tf.Variable(tf.zeros([784,10]))\n",
    "b = tf.Variable(tf.zeros([10]))\n",
    "prediction = tf.nn.softmax(tf.matmul(x,W)+b)\n",
    "\n",
    "#二次代价函数\n",
    "loss = tf.reduce_mean(tf.square(y-prediction))\n",
    "#使用梯度下降法\n",
    "train_step = tf.train.GradientDescentOptimizer(0.2).minimize(loss)\n",
    "\n",
    "#初始化变量\n",
    "init = tf.global_variables_initializer()\n",
    "\n",
    "#结果存放在一个布尔型列表中\n",
    "correct_prediction = tf.equal(tf.argmax(y,1),tf.argmax(prediction,1))#argmax返回一维张量中最大的值所在的位置\n",
    "#求准确率\n",
    "accuracy = tf.reduce_mean(tf.cast(correct_prediction,tf.float32))\n",
    "\n",
    "with tf.Session() as sess:\n",
    "    sess.run(init)\n",
    "    for epoch in range(21):\n",
    "        for batch in range(n_batch):\n",
    "            batch_xs,batch_ys =  mnist.train.next_batch(batch_size)\n",
    "            sess.run(train_step,feed_dict={x:batch_xs,y:batch_ys})\n",
    "        \n",
    "        acc = sess.run(accuracy,feed_dict={x:mnist.test.images,y:mnist.test.labels})\n",
    "        print(\"Iter \" + str(epoch) + \",Testing Accuracy \" + str(acc))"
   ]
  }
 ],
 "metadata": {
  "kernelspec": {
   "display_name": "Python 3",
   "language": "python",
   "name": "python3"
  },
  "language_info": {
   "codemirror_mode": {
    "name": "ipython",
    "version": 3
   },
   "file_extension": ".py",
   "mimetype": "text/x-python",
   "name": "python",
   "nbconvert_exporter": "python",
   "pygments_lexer": "ipython3",
   "version": "3.6.5"
  }
 },
 "nbformat": 4,
 "nbformat_minor": 2
}
