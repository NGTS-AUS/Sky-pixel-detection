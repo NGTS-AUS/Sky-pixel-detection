{
 "cells": [
  {
   "cell_type": "code",
   "execution_count": 1,
   "metadata": {},
   "outputs": [],
   "source": [
    "import tensorflow as tf\n",
    "import numpy as np"
   ]
  },
  {
   "cell_type": "code",
   "execution_count": 2,
   "metadata": {},
   "outputs": [],
   "source": [
    "# X_train, Y_train = load_cifar_10_data_batch(path + '/cifar-10-batches-py/data_batch_1')\n",
    "# X_test, Y_test = load_cifar_10_data_batch"
   ]
  },
  {
   "cell_type": "code",
   "execution_count": 3,
   "metadata": {},
   "outputs": [],
   "source": [
    "with np.load('Buildingtop.npz') as Buildingtop:\n",
    "    train_x = Buildingtop['train_x']\n",
    "    train_y = Buildingtop['train_Y']\n",
    "    test_x = Buildingtop['test_x']\n",
    "    test_y = Buildingtop['test_y']\n",
    "with np.load('Treetop.npz') as Treetop:\n",
    "    train_x = np.vstack((train_x,Treetop['train_x']))\n",
    "    train_y = np.hstack((train_y,Treetop['train_Y']))\n",
    "    test_x = np.vstack((test_x,Treetop['test_x']))\n",
    "    test_y = np.hstack((test_y,Treetop['test_y']))\n",
    "with np.load('BigBuilding.npz') as BigBuilding:\n",
    "    train_x = np.vstack((train_x,BigBuilding['train_x']))\n",
    "    train_y = np.hstack((train_y,BigBuilding['train_Y']))\n",
    "    test_x = np.vstack((test_x,BigBuilding['test_x']))\n",
    "    test_y = np.hstack((test_y,BigBuilding['test_y']))\n",
    "with np.load('skycloudcontrast.npz') as skycloudcontrast:\n",
    "    train_x = np.vstack((train_x,skycloudcontrast['train_x']))\n",
    "    train_y = np.hstack((train_y,skycloudcontrast['train_Y']))\n",
    "    test_x = np.vstack((test_x,skycloudcontrast['test_x']))\n",
    "    test_y = np.hstack((test_y,skycloudcontrast['test_y']))"
   ]
  },
  {
   "cell_type": "code",
   "execution_count": 4,
   "metadata": {},
   "outputs": [
    {
     "name": "stdout",
     "output_type": "stream",
     "text": [
      "(400, 129792)\n",
      "(400,)\n",
      "(80, 129792)\n",
      "(80,)\n",
      "(400, 129792)\n",
      "(400,)\n"
     ]
    }
   ],
   "source": [
    "print(np.shape(train_x))\n",
    "print(np.shape(train_y))\n",
    "print(np.shape(test_x))\n",
    "print(np.shape(test_y))\n",
    "\n",
    "# train_y=train_y.reshape(200,1)\n",
    "# test_y=test_y.reshape(20,1)\n",
    "num_example=train_x.shape[0]\n",
    "arr=np.arange(num_example)\n",
    "np.random.shuffle(arr)\n",
    "train_x=train_x[arr]\n",
    "train_y=train_y[arr]\n",
    "# train_y=train_y.reshape(200,)\n",
    "# test_y=test_y.reshape(20,)\n",
    "print(np.shape(train_x))\n",
    "print(np.shape(train_y))"
   ]
  },
  {
   "cell_type": "code",
   "execution_count": 5,
   "metadata": {},
   "outputs": [],
   "source": [
    "X_train=train_x\n",
    "Y_train=train_y\n",
    "X_test=test_x\n",
    "Y_test=test_y"
   ]
  },
  {
   "cell_type": "code",
   "execution_count": 6,
   "metadata": {},
   "outputs": [
    {
     "name": "stdout",
     "output_type": "stream",
     "text": [
      "[1 2 0 1 0 3 1 3 0 1 1 3 0 3 3 0 3 3 1 3 2 2 2 3 0 1 2 1 2 3 0 3 3 3 1 3 3\n",
      " 1 1 2 0 0 3 3 2 0 3 0 0 3 2 2 1 3 2 1 1 3 2 0 0 2 1 2 1 0 0 0 2 0 2 2 3 0\n",
      " 1 2 0 0 0 0 1 0 0 2 1 0 0 3 2 3 2 1 3 3 1 3 2 2 2 1 1 1 0 2 1 0 1 3 2 2 1\n",
      " 1 1 1 2 1 3 2 0 3 0 1 1 0 2 0 1 0 1 1 0 0 0 3 3 1 0 2 1 2 0 3 1 0 2 2 1 0\n",
      " 1 1 2 1 2 2 2 3 0 2 3 0 1 1 3 0 2 0 0 3 2 0 0 2 0 1 3 3 3 1 3 1 2 3 0 3 2\n",
      " 1 1 2 0 1 3 1 2 2 0 1 2 3 3 1 3 3 2 2 3 3 3 2 0 3 0 0 3 2 0 2 0 1 3 1 2 3\n",
      " 2 2 3 0 3 2 1 2 1 1 1 2 0 1 0 1 1 2 2 3 0 0 1 1 3 2 0 1 2 1 3 3 3 2 0 0 0\n",
      " 3 0 2 2 3 3 3 1 0 2 2 3 0 2 2 2 2 3 2 3 0 0 1 2 3 2 3 2 3 2 0 0 0 1 2 1 3\n",
      " 3 2 3 3 0 3 3 3 0 3 0 3 3 1 0 1 3 1 2 0 0 1 0 0 2 0 0 2 1 2 2 0 3 0 1 1 2\n",
      " 3 2 0 2 0 1 2 3 1 3 0 1 2 3 2 3 1 2 0 0 3 0 1 3 2 3 1 1 2 1 3 2 1 3 3 1 1\n",
      " 3 1 1 0 3 2 0 3 1 3 0 1 0 1 1 1 1 2 0 1 1 0 2 2 3 0 0 1 2 2]\n"
     ]
    }
   ],
   "source": [
    "print(train_y)"
   ]
  },
  {
   "cell_type": "code",
   "execution_count": 7,
   "metadata": {},
   "outputs": [],
   "source": [
    "# 2.function\n",
    "# 2.1 # init weight random distribution\n",
    "def weights(shape):\n",
    "    return tf.Variable(tf.random_normal(shape=shape, mean=0, stddev=0.1))\n",
    "# 2.2 init bias\n",
    "def biases(shape):\n",
    "    return tf.Variable(tf.constant(0.1, shape=shape))\n",
    "\n",
    "# 2.3 #     \n",
    "# x input tensor of shape [batch, in_height, in_width, in_channels]\n",
    "# W filter/kernel tensor of shape [filter_height, filter_width, in_channels, out_channels]\n",
    "# strides[0]=strides[3]=1 strides[x] stands \"x\"direction, strides[y]stands \"y\" dicrection\n",
    "# padding: \"SAME\",OR \"VALID\"\n",
    "def conv2d(x, W):\n",
    "    return tf.nn.conv2d(input=x, filter=W, strides=[1,1,1,1], padding='SAME', use_cudnn_on_gpu=True)\n",
    "# 2.4 pooling layer\n",
    "def max_pool(x):\n",
    "    return tf.nn.max_pool(value=x, ksize=[1,2,2,1], strides=[1,2,2,1], padding='SAME')\n",
    "\n",
    "\n",
    "# compute accuracy\n",
    "def compute_accuracy(x_test, y_test):\n",
    "    global predict_function\n",
    "    predict_test = sess.run(predict_function, feed_dict={xs:x_test})\n",
    "    # 比较预测值与测试集最大值下标是否相同, 返回相同个数\n",
    "    \"\"\"\n",
    "    =================================\n",
    "    \"\"\"\n",
    "    y_test_one_hot = tf.one_hot(y_test, depth = 4)\n",
    "    correct_num = tf.equal(tf.argmax(predict_test, 1), tf.argmax(y_test_one_hot, 1))\n",
    "    # calculate mean then turn to float32\n",
    "    accuracy = tf.reduce_mean(tf.cast(correct_num, tf.float32))\n",
    "    return sess.run(accuracy, feed_dict={xs:x_test, ys:y_test})"
   ]
  },
  {
   "cell_type": "code",
   "execution_count": 8,
   "metadata": {},
   "outputs": [
    {
     "name": "stdout",
     "output_type": "stream",
     "text": [
      "WARNING:tensorflow:From <ipython-input-8-30489a893918>:67: softmax_cross_entropy_with_logits (from tensorflow.python.ops.nn_ops) is deprecated and will be removed in a future version.\n",
      "Instructions for updating:\n",
      "\n",
      "Future major versions of TensorFlow will allow gradients to flow\n",
      "into the labels input on backprop by default.\n",
      "\n",
      "See @{tf.nn.softmax_cross_entropy_with_logits_v2}.\n",
      "\n"
     ]
    }
   ],
   "source": [
    "\"\"\"\n",
    "=================\n",
    "\"\"\"\n",
    "# 3.define inpute shape\n",
    "xs = tf.placeholder(tf.float32, [None, 416*104*3])/255\n",
    "ys = tf.placeholder(tf.int32, [None])\n",
    "\n",
    "# 4. build process\n",
    "# # change xs format into a 4D vector [batch, in_height, in_width, in_channels]\n",
    "x0 = tf.transpose(tf.reshape(xs, [-1, 3, 104, 416]), perm=[0, 2, 3, 1])\n",
    "\n",
    "# 4.1 conv1→pooling→conv2→pooling\n",
    "\n",
    "# after first pooling image is 208x52\n",
    "# after second pooling image is 104x26\n",
    "# activation function use relu (alternative)\n",
    "# conv1 layer uses 30 conv2 uses 60 (alternative)\n",
    "W_conv1 = weights([5, 5, 3, 30])\n",
    "b_conv1 = biases([30])\n",
    "a_conv1 = conv2d(x0, W_conv1) + b_conv1\n",
    "z_conv1 = tf.nn.relu(a_conv1)\n",
    "h_conv1 = max_pool(z_conv1)\n",
    "\n",
    "W_conv2 = weights([5, 5, 30, 60])\n",
    "b_conv2 = biases([60])\n",
    "a_conv2 = conv2d(h_conv1, W_conv2) + b_conv2\n",
    "z_conv2 = tf.nn.relu(a_conv2)\n",
    "h_conv2 = max_pool(z_conv2)\n",
    "\n",
    "# output 104*26*60\n",
    "\n",
    "\"\"\"\n",
    "==============\n",
    "\"\"\"\n",
    "x_conv0 = tf.reshape(h_conv2, [-1, 104*26*60])\n",
    "# 4.2 fully connected networks\n",
    "\"\"\"\n",
    "=============\n",
    "\"\"\"\n",
    "W_fc1 = weights([104*26*60, 1024])\n",
    "b_fc1 = biases([1024])\n",
    "a_fc1 = tf.matmul(x_conv0, W_fc1) + b_fc1\n",
    "z_fc1 = tf.nn.sigmoid(a_fc1)\n",
    "\"\"\"\n",
    "==========================drop out\n",
    "\n",
    "\"\"\"\n",
    "# drop_prob = tf.placeholder(tf.float32)\n",
    "# h_fc1_drop = tf.nn.dropout(z_fc1,drop_prob)\n",
    "\n",
    "\"\"\"\n",
    "===============\n",
    "\"\"\"\n",
    "W_fc2 = weights([1024, 4])\n",
    "b_fc2 = biases([4])\n",
    "a_fc2 = tf.matmul(z_fc1, W_fc2) + b_fc2\n",
    "# z_fc2 = tf.nn.sigmoid(a_fc2)\n",
    "\n",
    "\n",
    "# 4.3 prediction function\n",
    "predict_function = a_fc2\n",
    "\"\"\"\n",
    "=============================\n",
    "\"\"\"\n",
    "ys_one_hot = tf.one_hot(ys, depth = 4)\n",
    "# cost_function = tf.reduce_mean(-tf.reduce_sum(ys*tf.log(predict_function), reduction_indices=[1]))\n",
    "cost_function = tf.reduce_mean(tf.nn.softmax_cross_entropy_with_logits(labels=ys_one_hot, logits=predict_function))\n",
    "\n",
    "# 4.4 Optimizer uses GradientDescentOptimizer\n",
    "#  which minimise the cost_function\n",
    "train_step = tf.train.GradientDescentOptimizer(0.01).minimize(cost_function)\n",
    "# train_step = tf.train.AdamOptimizer(0.01).minimize(cost_function)\n"
   ]
  },
  {
   "cell_type": "code",
   "execution_count": 9,
   "metadata": {},
   "outputs": [
    {
     "name": "stdout",
     "output_type": "stream",
     "text": [
      "epoch:1,iters:38, cost:0.8760473, accuracy:0.2625\n",
      "epoch:2,iters:38, cost:0.5723856, accuracy:0.45\n",
      "epoch:3,iters:38, cost:0.54920274, accuracy:0.4\n",
      "epoch:4,iters:38, cost:0.33839592, accuracy:0.6125\n",
      "epoch:5,iters:38, cost:0.25440386, accuracy:0.725\n",
      "epoch:6,iters:38, cost:0.21381335, accuracy:0.875\n",
      "epoch:7,iters:38, cost:0.18814868, accuracy:0.875\n",
      "epoch:8,iters:38, cost:0.17017451, accuracy:0.875\n",
      "epoch:9,iters:38, cost:0.15669782, accuracy:0.875\n",
      "epoch:10,iters:38, cost:0.14608406, accuracy:0.8875\n",
      "epoch:11,iters:38, cost:0.13740686, accuracy:0.8875\n",
      "epoch:12,iters:38, cost:0.13010485, accuracy:0.8875\n",
      "epoch:13,iters:38, cost:0.12382035, accuracy:0.8875\n",
      "epoch:14,iters:38, cost:0.11831514, accuracy:0.9\n",
      "epoch:15,iters:38, cost:0.11342464, accuracy:0.9\n",
      "epoch:16,iters:38, cost:0.1090317, accuracy:0.9\n",
      "epoch:17,iters:38, cost:0.105049774, accuracy:0.9\n",
      "epoch:18,iters:38, cost:0.101413846, accuracy:0.8875\n",
      "epoch:19,iters:38, cost:0.09807354, accuracy:0.8875\n",
      "epoch:20,iters:38, cost:0.094988815, accuracy:0.8875\n"
     ]
    }
   ],
   "source": [
    "# 5. 训练并图像化表示\n",
    "sess = tf.Session()\n",
    "sess.run(tf.global_variables_initializer())\n",
    "\n",
    "saver = tf.train.Saver()\n",
    "plot_acc = []\n",
    "plot_loss = []\n",
    "for epoch in range(20):\n",
    "    for t in range(0, 400-10, 10):\n",
    "        iter = t // 10\n",
    "        xs_batch, ys_batch = X_train[t:t+10], Y_train[t:t+10]\n",
    "        sess.run(train_step, feed_dict={xs:xs_batch, ys:ys_batch})\n",
    "        if iter % 10== 0:\n",
    "            cost = sess.run(cost_function, feed_dict={xs: xs_batch, ys: ys_batch})\n",
    "#             accuracy = compute_accuracy(X_test, Y_test)\n",
    "#             print(\"epoch:%s,iters:%s, cost:%s, accuracy:%s\" % (epoch+1, iter, cost, accuracy))\n",
    "#             print(\"Building top: \", compute_accuracy(X_test[0:20], Y_test[0:20]))\n",
    "#             print(\"tree top: \", compute_accuracy(X_test[20:40], Y_test[20:40]))\n",
    "#             print(\"big building: \", compute_accuracy(X_test[40:60], Y_test[40:60]))\n",
    "#             print(\"contrast: \", compute_accuracy(X_test[60:80], Y_test[60:80]))\n",
    "    accuracy = compute_accuracy(X_test, Y_test)\n",
    "    print(\"epoch:%s,iters:%s, cost:%s, accuracy:%s\" % (epoch+1, iter, cost, accuracy))\n",
    "    plot_loss.append(cost)\n",
    "    plot_acc.append(accuracy)\n",
    "saver.save(sess, 'C:\\\\Users\\\\35252\\\\Desktop\\\\new test\\\\model.ckpt')\n",
    "\n",
    "\n",
    "\"\"\"\n",
    "============================\n",
    "\"\"\"\n",
    "# for i in range(20):\n",
    "#     xs_batch, ys_batch = X_train, Y_train\n",
    "#     sess.run(train_step, feed_dict={xs:xs_batch, ys:ys_batch})\n",
    "#     cost = sess.run(cost_function, feed_dict={xs: xs_batch, ys: ys_batch})\n",
    "#     accuracy = compute_accuracy(X_test, Y_test)\n",
    "#     print(\"iters:%s, cost:%s, accuracy:%s\" % (i, cost, accuracy))\n",
    "\n",
    "sess.close()\n"
   ]
  },
  {
   "cell_type": "code",
   "execution_count": 23,
   "metadata": {},
   "outputs": [
    {
     "name": "stdout",
     "output_type": "stream",
     "text": [
      "[0.2625, 0.45, 0.4, 0.6125, 0.725, 0.875, 0.875, 0.875, 0.875, 0.8875, 0.8875, 0.8875, 0.8875, 0.9, 0.9, 0.9, 0.9, 0.8875, 0.8875, 0.8875]\n",
      "[0.8760473, 0.5723856, 0.54920274, 0.33839592, 0.25440386, 0.21381335, 0.18814868, 0.17017451, 0.15669782, 0.14608406, 0.13740686, 0.13010485, 0.12382035, 0.11831514, 0.11342464, 0.1090317, 0.105049774, 0.101413846, 0.09807354, 0.094988815]\n"
     ]
    }
   ],
   "source": [
    "print(plot_acc)\n",
    "print(plot_loss)"
   ]
  },
  {
   "cell_type": "code",
   "execution_count": 22,
   "metadata": {},
   "outputs": [
    {
     "data": {
      "image/png": "[encoded data removed]",
      "text/plain": [
       "<Figure size 432x288 with 1 Axes>"
      ]
     },
     "metadata": {},
     "output_type": "display_data"
    },
    {
     "data": {
      "image/png": "[encoded data removed]",
      "text/plain": [
       "<Figure size 432x288 with 1 Axes>"
      ]
     },
     "metadata": {},
     "output_type": "display_data"
    }
   ],
   "source": [
    "import matplotlib.pyplot as plt\n",
    "X = [x for x in range(0, 20)]\n",
    "Y = plot_acc\n",
    "plt.plot(X,Y,c=\"m\")\n",
    "plt.xlabel(\"Epoch\")\n",
    "plt.ylabel(\"Accuracy\")\n",
    "plt.show()\n",
    "Y2 = plot_loss\n",
    "plt.plot(X,Y2,c=\"m\")\n",
    "plt.xlabel(\"Epoch\")\n",
    "plt.ylabel(\"Loss\")\n",
    "plt.show()"
   ]
  },
  {
   "cell_type": "code",
   "execution_count": 10,
   "metadata": {},
   "outputs": [
    {
     "data": {
      "text/plain": [
       "'\\ntensorboard, need be fixed\\n'"
      ]
     },
     "execution_count": 10,
     "metadata": {},
     "output_type": "execute_result"
    }
   ],
   "source": [
    "\"\"\"\n",
    "tensorboard, need be fixed\n",
    "\"\"\"\n",
    "\n",
    "# with tf.name_scope('conv1'):\n",
    "#         conv1 = tf.nn.conv2d(x4d, weight_variable('conv1', [5, 5, 3, 64], 5e-2, 'w_conv1'), strides=[1, 1, 1, 1], padding='SAME')\n",
    "#         conv1 = tf.nn.bias_add(conv1, bias_variable('conv1', 0.0, tf.float32, [64], 'b_conv1'))\n",
    "#         conv1 = tf.nn.relu(conv1)\n",
    "\n",
    "# with tf.name_scope('accuracy'):\n",
    "#         with tf.name_scope('correct_prediction'):\n",
    "#             correct_pred = tf.equal(tf.argmax(fc3, 1), tf.argmax(y, 1))\n",
    "#         with tf.name_scope('accuracy'):\n",
    "#             accuracy = tf.reduce_mean(tf.cast(correct_pred, tf.float32))\n",
    "#     tf.summary.scalar('accuracy', accuracy)\n",
    "\n",
    "# merged_summary_op = tf.summary.merge_all()\n",
    "\n",
    "# summary_writer = tf.summary.FileWriter('./tensorboard/log/', graph=tf.get_default_graph())"
   ]
  },
  {
   "cell_type": "code",
   "execution_count": 11,
   "metadata": {},
   "outputs": [
    {
     "name": "stdout",
     "output_type": "stream",
     "text": [
      "(60, 129792)\n"
     ]
    }
   ],
   "source": [
    "with np.load('1Buildingtop.npz') as a:\n",
    "    real = a['train_x']\n",
    "\n",
    "with np.load('1Tree top.npz') as b:\n",
    "    real = np.vstack((real,b['train_x']))\n",
    "\n",
    "with np.load('1Big building.npz') as c:\n",
    "    real = np.vstack((real,c['train_x']))\n",
    "\n",
    "with np.load('1Cloudy.npz') as d:\n",
    "    real = np.vstack((real,d['train_x']))\n",
    "print(np.shape(real))"
   ]
  },
  {
   "cell_type": "code",
   "execution_count": 12,
   "metadata": {},
   "outputs": [
    {
     "name": "stdout",
     "output_type": "stream",
     "text": [
      "[2 2 2 2 2 2 2 2 2 2 2 2 2 2 2 2 2 2 2 2 3 3 3 3 3 3 3 3 3 3 3 3 3 3 3 3 3\n",
      " 3 3 3 1 1 1 1 1 1 1 1 1 1 1 1 1 1 1 1 1 1 1 1 0 0 0 0 0 0 0 0 0 0 0 0 0 0\n",
      " 0 0 0 0 0 0]\n"
     ]
    }
   ],
   "source": [
    "print(test_y)"
   ]
  },
  {
   "cell_type": "code",
   "execution_count": 13,
   "metadata": {},
   "outputs": [
    {
     "name": "stdout",
     "output_type": "stream",
     "text": [
      "INFO:tensorflow:Restoring parameters from C:\\Users\\35252\\Desktop\\new test\\model.ckpt\n",
      "4\n",
      "3\n",
      "3\n",
      "3\n",
      "3\n",
      "3\n",
      "3\n",
      "3\n",
      "3\n",
      "3\n",
      "3\n",
      "3\n",
      "3\n",
      "3\n",
      "3\n",
      "=====================\n",
      "3\n",
      "3\n",
      "2\n",
      "3\n",
      "2\n",
      "1\n",
      "2\n",
      "1\n",
      "1\n",
      "3\n",
      "4\n",
      "2\n",
      "3\n",
      "2\n",
      "3\n",
      "=====================\n",
      "4\n",
      "4\n",
      "2\n",
      "2\n",
      "2\n",
      "2\n",
      "2\n",
      "2\n",
      "2\n",
      "2\n",
      "2\n",
      "2\n",
      "2\n",
      "2\n",
      "2\n",
      "=====================\n",
      "2\n",
      "2\n",
      "1\n",
      "1\n",
      "2\n",
      "2\n",
      "1\n",
      "2\n",
      "1\n",
      "1\n",
      "1\n",
      "1\n",
      "2\n",
      "1\n",
      "1\n",
      "=====================\n"
     ]
    }
   ],
   "source": [
    "with tf.Session() as sess:\n",
    "    saver = tf.train.import_meta_graph('C:\\\\Users\\\\35252\\\\Desktop\\\\new test\\\\model.ckpt.meta')\n",
    "    saver.restore(sess,tf.train.latest_checkpoint('C:\\\\Users\\\\35252\\\\Desktop\\\\new test\\\\'))\n",
    "    count = 0\n",
    "    for r in real:\n",
    "        count+=1\n",
    "        r = r.reshape((1,129792))\n",
    "        predict_test = sess.run(predict_function, feed_dict={xs:r})\n",
    "        temp = predict_test[0].tolist()\n",
    "        print(temp.index(max(temp))+1)\n",
    "        if count%15 == 0:\n",
    "            print(\"=====================\")\n",
    "    #打印出预测矩阵\n",
    "#     print(accuracy)\n"
   ]
  },
  {
   "cell_type": "code",
   "execution_count": null,
   "metadata": {},
   "outputs": [],
   "source": []
  }
 ],
 "metadata": {
  "kernelspec": {
   "display_name": "Python 3",
   "language": "python",
   "name": "python3"
  },
  "language_info": {
   "codemirror_mode": {
    "name": "ipython",
    "version": 3
   },
   "file_extension": ".py",
   "mimetype": "text/x-python",
   "name": "python",
   "nbconvert_exporter": "python",
   "pygments_lexer": "ipython3",
   "version": "3.5.5"
  }
 },
 "nbformat": 4,
 "nbformat_minor": 2
}
