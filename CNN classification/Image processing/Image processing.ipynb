{
 "cells": [
  {
   "cell_type": "code",
   "execution_count": 2,
   "metadata": {},
   "outputs": [],
   "source": [
    "import numpy as np\n",
    "import cv2\n",
    "import math\n",
    "from PIL import Image, ImageStat\n",
    "import sys\n",
    "from os import listdir"
   ]
  },
  {
   "cell_type": "code",
   "execution_count": 14,
   "metadata": {},
   "outputs": [],
   "source": [
    "\"\"\"\n",
    "This is the function used to resizing the image into a smaller size. Since from the experiments, the larger size couldn't get a better \n",
    "training result.\n",
    "\"\"\"\n",
    "def convert(dir):\n",
    "    file_list=listdir(dir)\n",
    "    for filename in file_list:\n",
    "        if \"panorama\" in filename and \"cropped\" not in filename and \"Resized_\" not in filename:\n",
    "            path=\"\"\n",
    "            path=dir+filename\n",
    "            im=Image.open(path)\n",
    "            out=im.resize((416,208),Image.ANTIALIAS)\n",
    "            print (\"%s has been resized\"%filename)\n",
    "            out.save(dir+\"Resized_\"+filename)"
   ]
  },
  {
   "cell_type": "markdown",
   "metadata": {},
   "source": [
    "**Put this file into the directory of each classes. The output is a '.npz' file which contains the image data.**"
   ]
  },
  {
   "cell_type": "code",
   "execution_count": 15,
   "metadata": {},
   "outputs": [
    {
     "name": "stdout",
     "output_type": "stream",
     "text": [
      "panorama-1O2_CdMZC8UpnsvAnuNZTw-1.png has been resized\n",
      "panorama-2PRkuSeJg_Am_3fdkpMk1w-1.png has been resized\n",
      "panorama-2xbH0MV44SbMGf2X07Gpdw-1.png has been resized\n"
     ]
    }
   ],
   "source": [
    "path1 = r\"C:\\\\Users\\\\35252\\\\Desktop\\\\\"\n",
    "files= listdir(path1)\n",
    "\n",
    "convert(path1)"
   ]
  },
  {
   "cell_type": "markdown",
   "metadata": {},
   "source": [
    "**return pixels matrix with RGBA value, and cropped half image**"
   ]
  },
  {
   "cell_type": "code",
   "execution_count": 16,
   "metadata": {},
   "outputs": [],
   "source": [
    "def get_image(image_path):\n",
    "    \"\"\"\n",
    "    Get a numpy 2D array of an image so that one can access RGBA[x][y] or RGBA[x,y].\n",
    "    \n",
    "    \"\"\"\n",
    "    origin = Image.open(image_path, 'r')\n",
    "    width, height = origin.size\n",
    "    area = (0, 0, width, 0.5*height)\n",
    "    image = origin.crop(area) # crop top half of the image\n",
    "#     result = Image.fromarray(image.astype(np.uint8))\n",
    "    image.save(file+\"_cropped.png\")\n",
    "    width, height = image.size\n",
    "#     print (image.size)\n",
    "    pixel_values = list(image.getdata())\n",
    "    if image.mode == 'RGBA':\n",
    "        channels = 4\n",
    "    elif image.mode == 'L':\n",
    "        channels = 1\n",
    "    else:\n",
    "        print(\"Unknown mode: %s\" % image.mode)\n",
    "        return None\n",
    "    pixel_values = np.array(pixel_values).reshape((height, width, channels))\n",
    "    return pixel_values "
   ]
  },
  {
   "cell_type": "markdown",
   "metadata": {},
   "source": [
    "**Get a numpy 2D array of an image which contains rgb values**"
   ]
  },
  {
   "cell_type": "code",
   "execution_count": 17,
   "metadata": {},
   "outputs": [],
   "source": [
    "def RGB_array(pixels):\n",
    "    rgb=[[0 for x in range(len(pixels[0]))] for y in range(len(pixels))]\n",
    "    r,g,b=[],[],[]\n",
    "    # Matrix = [[0 for x in range(w)] for y in range(h)]\n",
    "    for i in range(len(pixels)):\n",
    "        for j in range(len(pixels[0])):\n",
    "            R,G,B,A=pixels[i,j]\n",
    "            rgb[i][j]=[R,G,B]\n",
    "            r.append(R)\n",
    "            g.append(G)\n",
    "            b.append(B)\n",
    "    rgb2 = r+g+b\n",
    "    return rgb2"
   ]
  },
  {
   "cell_type": "code",
   "execution_count": 18,
   "metadata": {},
   "outputs": [
    {
     "name": "stdout",
     "output_type": "stream",
     "text": [
      "(129792,)\n",
      "Resized__resized__resized__resized__resized_panorama-2PRkuSeJg_Am_3fdkpMk1w-1.png (1, 129792)\n",
      "(129792,)\n",
      "Resized__resized__resized__resized__resized_panorama-2xbH0MV44SbMGf2X07Gpdw-1.png (2, 129792)\n",
      "(129792,)\n",
      "Resized_panorama-1O2_CdMZC8UpnsvAnuNZTw-1.png (3, 129792)\n",
      "(129792,)\n",
      "Resized_panorama-2PRkuSeJg_Am_3fdkpMk1w-1.png (4, 129792)\n",
      "(129792,)\n",
      "Resized_panorama-2xbH0MV44SbMGf2X07Gpdw-1.png (5, 129792)\n"
     ]
    }
   ],
   "source": [
    "train_x = []\n",
    "for file in sorted(files):\n",
    "    if \"panorama\" in file and \"Resized\" in file and \"cropped\" not in file:\n",
    "#         file=path1+file\n",
    "        pixels =get_image(file)\n",
    "#         print (np.shape(pixels))\n",
    "            # print (pixel1)\n",
    "        image_rgb = RGB_array(pixels)\n",
    "        \n",
    "#             edge_cal(file)\n",
    "        image_rgb=np.asarray(image_rgb)\n",
    "        print(np.shape(image_rgb))\n",
    "#         image_rgb=image_rgb.reshape((43264,3))\n",
    "        train_x.append(image_rgb)\n",
    "        print(file,np.shape(train_x))"
   ]
  },
  {
   "cell_type": "markdown",
   "metadata": {},
   "source": [
    "**Here the number of slice could be change which depends on your size of data**"
   ]
  },
  {
   "cell_type": "code",
   "execution_count": 13,
   "metadata": {},
   "outputs": [
    {
     "name": "stdout",
     "output_type": "stream",
     "text": [
      "(100, 129792)\n",
      "(20, 129792)\n"
     ]
    }
   ],
   "source": [
    "train_X = train_x[0:100]\n",
    "test_X = train_x[100:120]\n",
    "print(np.shape(train_X))\n",
    "print(np.shape(test_X))"
   ]
  },
  {
   "cell_type": "code",
   "execution_count": 14,
   "metadata": {},
   "outputs": [],
   "source": [
    "train_Y,test_Y = [],[]\n",
    "for i in range(100):\n",
    "    train_Y.append(1)\n",
    "for i in range(20):\n",
    "    test_Y.append(1)"
   ]
  },
  {
   "cell_type": "markdown",
   "metadata": {},
   "source": [
    "**The output contains 4 matrixs. In each metrixs, each row represents an immage. The value in eahc row represents the rgb values**"
   ]
  },
  {
   "cell_type": "code",
   "execution_count": 15,
   "metadata": {},
   "outputs": [],
   "source": [
    "np.savez_compressed(\"BigBuilding\", train_x = train_X, train_Y = train_Y,test_x = test_X, test_y = test_Y);"
   ]
  },
  {
   "cell_type": "code",
   "execution_count": null,
   "metadata": {},
   "outputs": [],
   "source": []
  }
 ],
 "metadata": {
  "kernelspec": {
   "display_name": "Python 3",
   "language": "python",
   "name": "python3"
  },
  "language_info": {
   "codemirror_mode": {
    "name": "ipython",
    "version": 3
   },
   "file_extension": ".py",
   "mimetype": "text/x-python",
   "name": "python",
   "nbconvert_exporter": "python",
   "pygments_lexer": "ipython3",
   "version": "3.5.5"
  }
 },
 "nbformat": 4,
 "nbformat_minor": 2
}
