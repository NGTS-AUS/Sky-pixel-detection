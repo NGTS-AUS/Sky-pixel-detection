{
 "cells": [
  {
   "cell_type": "code",
   "execution_count": 730,
   "metadata": {},
   "outputs": [],
   "source": [
    "import numpy as np\n",
    "import cv2\n",
    "import math\n",
    "from PIL import Image, ImageStat\n",
    "import sys\n",
    "from os import listdir"
   ]
  },
  {
   "cell_type": "code",
   "execution_count": 731,
   "metadata": {},
   "outputs": [],
   "source": [
    "def get_image(image_path):\n",
    "    \"\"\"\n",
    "    Get a numpy 2D array of an image so that one can access RGBA[x][y] or RGBA[x,y].\n",
    "    \n",
    "    Also get a cropped image for further use for hsv and k-means clustering\n",
    "    \n",
    "    \"\"\"\n",
    "    image = Image.open(image_path, 'r')\n",
    "    width, height = image.size\n",
    "    area = (0, 0, width, 0.5*height)\n",
    "    image = image.crop(area) # crop top half of the image\n",
    "#     result = Image.fromarray(image.astype(np.uint8))\n",
    "    image.save(\"cropped.png\")\n",
    "    width, height = image.size\n",
    "#     print (image.size)\n",
    "    pixel_values = list(image.getdata())\n",
    "    if image.mode == 'RGBA':\n",
    "        channels = 4\n",
    "    elif image.mode == 'L':\n",
    "        channels = 1\n",
    "    else:\n",
    "        print(\"Unknown mode: %s\" % image.mode)\n",
    "        return None\n",
    "#     pixel_values = np.array(pixel_values).reshape((width, height, channels))\n",
    "    pixel_values = np.array(pixel_values).reshape((height, width, channels))\n",
    "#     print (np.shape(pixel_values))\n",
    "\n",
    "    return pixel_values,image #return pixels matrix with RGBA value, and cropped half image"
   ]
  },
  {
   "cell_type": "code",
   "execution_count": 732,
   "metadata": {},
   "outputs": [],
   "source": [
    "def get_bri(pixels):\n",
    "    \"\"\"\n",
    "    Get a numpy 2D array of an image so that one can access brightness[x][y]\n",
    "       \n",
    "    \"\"\"\n",
    "    brightness=[[0 for x in range(len(pixels[0]))] for y in range(len(pixels))]\n",
    "    # Matrix = [[0 for x in range(w)] for y in range(h)]\n",
    "    for i in range(len(pixels)):\n",
    "        for j in range(len(pixels[0])):\n",
    "            R,G,B,A=pixels[i,j]\n",
    "            brightness[i][j]=0.2126*R + 0.7152*G + 0.0722*B\n",
    "    return brightness"
   ]
  },
  {
   "cell_type": "code",
   "execution_count": 733,
   "metadata": {},
   "outputs": [],
   "source": [
    "def hsv( image ):\n",
    "    \"\"\"\n",
    "    Get a numpy 2D array of an image so that one can access HSV[x][y]\n",
    "       \n",
    "    \"\"\"\n",
    "    img = np.array(image)\n",
    "    HSV = cv2.cvtColor(img, cv2.COLOR_BGR2HSV)\n",
    "#     H,S,V=cv2.split(HSV)\n",
    "    #H = HSV[:,:,0]\n",
    "    #S = HSV[:,:,1].mean\n",
    "    #V = HSV[:,:,2].mean\n",
    "    #return H,S,V\n",
    "#     H=np.mean(H)\n",
    "#     S=np.mean(S)\n",
    "#     V=np.mean(V)\n",
    "    return HSV"
   ]
  },
  {
   "cell_type": "code",
   "execution_count": 734,
   "metadata": {},
   "outputs": [],
   "source": [
    "\"\"\"\n",
    "Return HSL matrix\n",
    "\"\"\"\n",
    "\n",
    "def hls(image):\n",
    "    img = np.array(image)\n",
    "    HLS = cv2.cvtColor(img, cv2.COLOR_RGB2HLS)\n",
    "    return HLS"
   ]
  },
  {
   "cell_type": "code",
   "execution_count": 735,
   "metadata": {},
   "outputs": [
    {
     "name": "stdout",
     "output_type": "stream",
     "text": [
      "(208, 832, 4)\n",
      "(208, 832, 3)\n",
      "(208, 832, 3)\n"
     ]
    }
   ],
   "source": [
    "\"\"\"\n",
    "Load and feature extraction and calculation\n",
    "\"\"\"\n",
    "\n",
    "path1 = \"/Users/caijieyang/Desktop/experiment\"\n",
    "files= listdir(path1)\n",
    "for file in files:\n",
    "    if \"panorama\" in file:\n",
    "        pixels,image=get_image(file)\n",
    "        print (np.shape(pixels))\n",
    "            # print (pixel1)\n",
    "        brightness=get_bri(pixels)\n",
    "        HSV=hsv(image)\n",
    "        HLS=hls(image)\n",
    "        print (np.shape(HSV))\n",
    "        print (np.shape(HLS))"
   ]
  },
  {
   "cell_type": "code",
   "execution_count": 736,
   "metadata": {},
   "outputs": [
    {
     "name": "stdout",
     "output_type": "stream",
     "text": [
      "[[105 123  45]\n",
      " [105 123  45]\n",
      " [105 123  45]\n",
      " ...\n",
      " [105 123  45]\n",
      " [105 123  45]\n",
      " [105 123  45]]\n"
     ]
    }
   ],
   "source": [
    "# print (pixels[100,200])\n",
    "print (HLS[0,:])"
   ]
  },
  {
   "cell_type": "code",
   "execution_count": 737,
   "metadata": {},
   "outputs": [
    {
     "name": "stdout",
     "output_type": "stream",
     "text": [
      "(208, 832, 4)\n",
      "(208, 832, 4)\n"
     ]
    }
   ],
   "source": [
    "\"\"\"\n",
    "convert brightness into array\n",
    "\"\"\"\n",
    "\n",
    "print (np.shape(pixels))\n",
    "print (np.shape(image))\n",
    "\n",
    "brightness=np.asarray(brightness)\n",
    "# brightness=brightness.transpose()\n",
    "# print (np.shape(brightness))\n",
    "# print (\"pixel RGBA: \", pixels[0,0])\n",
    "# print (\"cloud brightness:\", brightness[0][0])\n",
    "# print (\"cloud RGBA:\", pixels[0,0])\n",
    "# print (\"sky brightness:\", brightness[94][462])\n",
    "# print (\"sky RGBA:\", pixels[94,462])\n",
    "# print (\"tree brightness:\", brightness[140][127])\n",
    "# print (\"tree RGBA:\", pixels[140,127])"
   ]
  },
  {
   "cell_type": "code",
   "execution_count": null,
   "metadata": {},
   "outputs": [],
   "source": []
  },
  {
   "cell_type": "code",
   "execution_count": 738,
   "metadata": {},
   "outputs": [],
   "source": [
    "\"\"\"\n",
    "K-means clustering to segment the image into 12 color class \n",
    "\n",
    "clustered.png is used as output\n",
    "\n",
    "\"\"\"\n",
    "\n",
    "\n",
    "file=(\"cropped.png\")\n",
    "\n",
    "\n",
    "img = cv2.imread(file)\n",
    "Z = img.reshape((-1,3))#reshape array into n rows and 3 colunms\n",
    "\n",
    "# convert to np.float32\n",
    "Z = np.float32(Z)\n",
    "\n",
    "# define criteria, number of clusters(K) and apply kmeans()\n",
    "criteria = (cv2.TERM_CRITERIA_EPS + cv2.TERM_CRITERIA_MAX_ITER, 10, 1.0)\n",
    "K = 15 #number of clusters\n",
    "ret,label,center=cv2.kmeans(Z,K,None,criteria,50,cv2.KMEANS_PP_CENTERS)\n",
    "\n",
    "# Now convert back into uint8, and make original image\n",
    "center = np.uint8(center)\n",
    "res = center[label.flatten()]\n",
    "label2=label.reshape((len(img),len(img[0]))) #save the label into 2D array corresponde to image shape\n",
    "res2 = res.reshape((img.shape))\n",
    "result = Image.fromarray(res2.astype(np.uint8))\n",
    "result.save(\"clustered.png\")\n",
    "# cv2.imshow('res2',res2)\n",
    "# cv2.waitKey(0)\n",
    "# cv2.destroyAllWindows()"
   ]
  },
  {
   "cell_type": "code",
   "execution_count": 739,
   "metadata": {},
   "outputs": [
    {
     "data": {
      "text/plain": [
       "True"
      ]
     },
     "execution_count": 739,
     "metadata": {},
     "output_type": "execute_result"
    }
   ],
   "source": [
    "\"\"\"\n",
    "convert img into grayscale\n",
    "\"\"\"\n",
    "# grayimg = np.array(img)\n",
    "grayimg=cv2.imread(file)\n",
    "graypix = cv2.cvtColor(grayimg, cv2.COLOR_RGB2GRAY)\n",
    "\n",
    "# graypix=cvtColor(img,COLOR_RGB2GRAY)\n",
    "cv2.imwrite('gray_image.png',graypix)\n"
   ]
  },
  {
   "cell_type": "code",
   "execution_count": 740,
   "metadata": {},
   "outputs": [
    {
     "name": "stdout",
     "output_type": "stream",
     "text": [
      "(208, 832, 3)\n",
      "(208, 832)\n",
      "[ 0  0  0  0  0  0  0  0  0  0  0  0  0  0  0  0  0  0  0  0  0  0  0  0\n",
      "  0  0  0  0  0  0  8  0  0  0  0  8  8  0  0  0  0  0  0  7  7  0  9  0\n",
      "  0  9  9  9  9  9  9  9  9  9  9  9  9  9  9  9  9  9  9  9  9  9 10  5\n",
      "  3  0  8  8  3 10 14 12 12 12 14 14 14 14  5 10 10  7  8  7  7  0  9  9\n",
      "  0  9  9  0  0  1  1 14 14  5  3  8 11  7  3  7 10  7  8  8  0  8  7  0\n",
      "  0  0  0  0  0  8  0  8  8  0  8  0  8  8  0  8  8  0  8  3  3  3  7  7\n",
      "  7  7  7  7  7  7  7  7  7  7  3  5 14  5  3  3  5 14 10 10 10 14 12 12\n",
      " 12  1  1  1 12  1  1 14 14  1  1  1 14 14 14  5  6  6  6  6  6  6  6  6\n",
      "  6  6  6  6  6  6  6  6 11 11 11 11 11 11 11 11]\n"
     ]
    }
   ],
   "source": [
    "print (np.shape(res2))\n",
    "print (np.shape(label2))\n",
    "print (label2[:,0])"
   ]
  },
  {
   "cell_type": "code",
   "execution_count": 741,
   "metadata": {},
   "outputs": [
    {
     "name": "stdout",
     "output_type": "stream",
     "text": [
      "(208, 832)\n"
     ]
    },
    {
     "data": {
      "image/png": "[encoded data removed]",
      "text/plain": [
       "<Figure size 432x288 with 2 Axes>"
      ]
     },
     "metadata": {},
     "output_type": "display_data"
    }
   ],
   "source": [
    "\"\"\"\n",
    "edge detection: generate a matrix with edge pixel has value 255\n",
    "\"\"\"\n",
    "\n",
    "from matplotlib import pyplot as plt\n",
    "img = cv2.imread('cropped.png',0)\n",
    "edges = cv2.Canny(img,150,500)\n",
    "result = Image.fromarray(edges.astype(np.uint8))\n",
    "result.save(\"edged100550.png\")\n",
    "print (np.shape(edges))\n",
    "plt.subplot(121),plt.imshow(img,cmap = 'gray')\n",
    "plt.title('Original Image'), plt.xticks([]), plt.yticks([])\n",
    "plt.subplot(122),plt.imshow(edges,cmap = 'gray')\n",
    "plt.title('Edge Image'), plt.xticks([]), plt.yticks([]) \n",
    "plt.show()"
   ]
  },
  {
   "cell_type": "code",
   "execution_count": 742,
   "metadata": {},
   "outputs": [
    {
     "name": "stdout",
     "output_type": "stream",
     "text": [
      "0.04968333949704142\n"
     ]
    }
   ],
   "source": [
    "\"\"\"\n",
    "proportion of edge pixel \n",
    "threshold 0.1 dedicated for case which has many trees\n",
    "\"\"\"\n",
    "\n",
    "# for i in range(len(edges)):\n",
    "#     for j in range(len(edges[i])):\n",
    "counter = 0\n",
    "for i in edges:\n",
    "    for j in i:\n",
    "        if j == 255:\n",
    "            counter+=1\n",
    "sum=len(edges)*len(edges[0])\n",
    "print (counter/sum)"
   ]
  },
  {
   "cell_type": "code",
   "execution_count": 743,
   "metadata": {},
   "outputs": [
    {
     "name": "stdout",
     "output_type": "stream",
     "text": [
      "255\n",
      "[105 131  36]\n",
      "[101 122 139 255]\n"
     ]
    }
   ],
   "source": [
    "#get B max in image\n",
    "Bmax=0\n",
    "for i in pixels:\n",
    "#     print (i)\n",
    "    for j in i:\n",
    "        if j[2]>Bmax:\n",
    "            Bmax=j[2]\n",
    "            \n",
    "print (Bmax)\n",
    "print (HLS[115][461])\n",
    "print (pixels[36][176])"
   ]
  },
  {
   "cell_type": "code",
   "execution_count": 744,
   "metadata": {},
   "outputs": [],
   "source": [
    "#HLS [0]:H [1]:L [2]:S\n",
    "counterclass_skypre={}\n",
    "counterclass_all={}\n",
    "Skypre=[[0 for x in range(len(pixels[0]))] for y in range(len(pixels))]\n",
    "for i in range(len(label2)):\n",
    "    for j in range(len(label2[0])):\n",
    "        if label2[i][j] not in counterclass_all:\n",
    "            counterclass_all[label2[i][j]]=1\n",
    "        else:            \n",
    "            counterclass_all[label2[i][j]]+=1\n",
    "#         if label2[i][j]==0:\n",
    "        #add condition like white cloud as sky\n",
    "        if HLS[i][j][0]>=0.35*180 or HLS[i][j][1]>=0.95*255 \\\n",
    "            or (HLS[i][j][1]>0.7*255 and HLS[i][j][2]<=0.2*255)\\\n",
    "            or (HLS[i][j][2]<=0.005*255 and pixels[i][j][2]>=0.9*Bmax) \\\n",
    "            or (HLS[i][j][2]>=0.03*255 and pixels[i][j][2]>=0.9*Bmax) or \\\n",
    "            ((pixels[i][j][2]>=0.95*Bmax) and ((abs(pixels[i][j][2]-pixels[i][j][0])<0.02*255))):\n",
    "            Skypre[i][j]=1\n",
    "            if label2[i][j] not in counterclass_skypre:\n",
    "                counterclass_skypre[label2[i][j]]=1\n",
    "            else:\n",
    "                counterclass_skypre[label2[i][j]]+=1\n",
    "# print (np.shape(Skypre))            \n",
    "# print (counter)\n",
    "# print (counterclass_skypre)\n",
    "\n",
    "\n",
    "        \n",
    "            "
   ]
  },
  {
   "cell_type": "code",
   "execution_count": 745,
   "metadata": {
    "scrolled": true
   },
   "outputs": [
    {
     "name": "stdout",
     "output_type": "stream",
     "text": [
      "[0, 8, 7, 3, 5, 14, 1, 12, 9]\n"
     ]
    }
   ],
   "source": [
    "skylabel_list=[]\n",
    "for i in counterclass_skypre:\n",
    "    if counterclass_skypre[i]/counterclass_all[i]>0.7:\n",
    "        skylabel_list.append(i)\n",
    "print (skylabel_list)"
   ]
  },
  {
   "cell_type": "code",
   "execution_count": 746,
   "metadata": {},
   "outputs": [
    {
     "name": "stdout",
     "output_type": "stream",
     "text": [
      "(208, 832, 4)\n"
     ]
    }
   ],
   "source": [
    "RED = 0\n",
    "GREEN = 1\n",
    "BLUE = 2\n",
    "\n",
    "data = np.asarray(image,dtype=\"int32\")\n",
    "print (np.shape(data))\n",
    "for i in range(len(brightness)):\n",
    "    for j in range(len(brightness[0])):\n",
    "        if label2[i][j] in skylabel_list:\n",
    "            data[i, j, GREEN] = 0\n",
    "            data[i, j, RED] = 0\n",
    "            data[i, j, BLUE] = 255\n",
    "        else:\n",
    "            continue\n",
    "result = Image.fromarray(data.astype(np.uint8))\n",
    "result.save(\"sky_mark.png\")"
   ]
  },
  {
   "cell_type": "code",
   "execution_count": 747,
   "metadata": {},
   "outputs": [
    {
     "name": "stdout",
     "output_type": "stream",
     "text": [
      "(208, 832, 4)\n"
     ]
    }
   ],
   "source": [
    "RED = 0\n",
    "GREEN = 1\n",
    "BLUE = 2\n",
    "\n",
    "data = np.asarray(image,dtype=\"int32\")\n",
    "print (np.shape(data))\n",
    "for i in range(len(brightness)):\n",
    "    for j in range(len(brightness[0])):\n",
    "        if 100<pixels[i][j][1]<255 and pixels[i][j][0]>100 and pixels[i][j][2]>100:\n",
    "            data[i, j, GREEN] = 0\n",
    "            data[i, j, RED] = 0\n",
    "            data[i, j, BLUE] = 255\n",
    "        else:\n",
    "            continue\n",
    "result = Image.fromarray(data.astype(np.uint8))\n",
    "result.save(\"sky_mark1.png\")"
   ]
  },
  {
   "cell_type": "code",
   "execution_count": null,
   "metadata": {},
   "outputs": [],
   "source": []
  },
  {
   "cell_type": "code",
   "execution_count": null,
   "metadata": {},
   "outputs": [],
   "source": []
  }
 ],
 "metadata": {
  "kernelspec": {
   "display_name": "Python 3",
   "language": "python",
   "name": "python3"
  },
  "language_info": {
   "codemirror_mode": {
    "name": "ipython",
    "version": 3
   },
   "file_extension": ".py",
   "mimetype": "text/x-python",
   "name": "python",
   "nbconvert_exporter": "python",
   "pygments_lexer": "ipython3",
   "version": "3.6.5"
  }
 },
 "nbformat": 4,
 "nbformat_minor": 2
}
