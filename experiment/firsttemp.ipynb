{
 "cells": [
  {
   "cell_type": "code",
   "execution_count": 1,
   "metadata": {},
   "outputs": [],
   "source": [
    "import numpy as np\n",
    "import cv2\n",
    "import math\n",
    "from PIL import Image, ImageStat\n",
    "import sys\n",
    "from os import listdir"
   ]
  },
  {
   "cell_type": "code",
   "execution_count": 2,
   "metadata": {},
   "outputs": [],
   "source": [
    "def get_image(image_path):\n",
    "    \"\"\"\n",
    "    Get a numpy 2D array of an image so that one can access RGBA[x][y] or RGBA[x,y].\n",
    "    \n",
    "    Also get a cropped image for further use for hsv and k-means clustering\n",
    "    \n",
    "    \"\"\"\n",
    "    image = Image.open(image_path, 'r')\n",
    "    width, height = image.size\n",
    "    area = (0, 0, width, 0.5*height)\n",
    "    image = image.crop(area) # crop top half of the image\n",
    "#     result = Image.fromarray(image.astype(np.uint8))\n",
    "    image.save(\"cropped.png\")\n",
    "    width, height = image.size\n",
    "#     print (image.size)\n",
    "    pixel_values = list(image.getdata())\n",
    "    if image.mode == 'RGBA':\n",
    "        channels = 4\n",
    "    elif image.mode == 'L':\n",
    "        channels = 1\n",
    "    else:\n",
    "        print(\"Unknown mode: %s\" % image.mode)\n",
    "        return None\n",
    "#     pixel_values = np.array(pixel_values).reshape((width, height, channels))\n",
    "    pixel_values = np.array(pixel_values).reshape((height, width, channels))\n",
    "#     print (np.shape(pixel_values))\n",
    "\n",
    "    return pixel_values,image #return pixels matrix with RGBA value, and cropped half image"
   ]
  },
  {
   "cell_type": "code",
   "execution_count": 3,
   "metadata": {},
   "outputs": [],
   "source": [
    "def get_bri(pixels):\n",
    "    \"\"\"\n",
    "    Get a numpy 2D array of an image so that one can access brightness[x][y]\n",
    "       \n",
    "    \"\"\"\n",
    "    brightness=[[0 for x in range(len(pixels[0]))] for y in range(len(pixels))]\n",
    "    # Matrix = [[0 for x in range(w)] for y in range(h)]\n",
    "    for i in range(len(pixels)):\n",
    "        for j in range(len(pixels[0])):\n",
    "            R,G,B,A=pixels[i,j]\n",
    "            brightness[i][j]=0.2126*R + 0.7152*G + 0.0722*B\n",
    "    return brightness"
   ]
  },
  {
   "cell_type": "code",
   "execution_count": 4,
   "metadata": {},
   "outputs": [],
   "source": [
    "def hsv( image ):\n",
    "    \"\"\"\n",
    "    Get a numpy 2D array of an image so that one can access HSV[x][y]\n",
    "       \n",
    "    \"\"\"\n",
    "    img = np.array(image)\n",
    "    HSV = cv2.cvtColor(img, cv2.COLOR_BGR2HSV)\n",
    "#     H,S,V=cv2.split(HSV)\n",
    "    #H = HSV[:,:,0]\n",
    "    #S = HSV[:,:,1].mean\n",
    "    #V = HSV[:,:,2].mean\n",
    "    #return H,S,V\n",
    "#     H=np.mean(H)\n",
    "#     S=np.mean(S)\n",
    "#     V=np.mean(V)\n",
    "    return HSV"
   ]
  },
  {
   "cell_type": "code",
   "execution_count": 5,
   "metadata": {},
   "outputs": [
    {
     "name": "stdout",
     "output_type": "stream",
     "text": [
      "(106, 425, 4)\n",
      "(106, 425, 3)\n"
     ]
    }
   ],
   "source": [
    "\"\"\"\n",
    "Load and feature extraction and calculation\n",
    "\"\"\"\n",
    "\n",
    "path1 = \"/Users/caijieyang/Desktop/experiment\"\n",
    "files= listdir(path1)\n",
    "for file in files:\n",
    "    if \"panorama\" in file:\n",
    "        pixels,image=get_image(file)\n",
    "        print (np.shape(pixels))\n",
    "            # print (pixel1)\n",
    "        brightness=get_bri(pixels)\n",
    "        HSV=hsv(image)\n",
    "        print (np.shape(HSV))"
   ]
  },
  {
   "cell_type": "code",
   "execution_count": null,
   "metadata": {},
   "outputs": [],
   "source": []
  },
  {
   "cell_type": "code",
   "execution_count": 6,
   "metadata": {},
   "outputs": [
    {
     "name": "stdout",
     "output_type": "stream",
     "text": [
      "(106, 425, 4)\n",
      "(106, 425, 4)\n"
     ]
    }
   ],
   "source": [
    "\"\"\"\n",
    "convert brightness into array\n",
    "\"\"\"\n",
    "\n",
    "print (np.shape(pixels))\n",
    "print (np.shape(image))\n",
    "\n",
    "brightness=np.asarray(brightness)\n",
    "# brightness=brightness.transpose()\n",
    "# print (np.shape(brightness))\n",
    "# print (\"pixel RGBA: \", pixels[0,0])\n",
    "# print (\"cloud brightness:\", brightness[0][0])\n",
    "# print (\"cloud RGBA:\", pixels[0,0])\n",
    "# print (\"sky brightness:\", brightness[94][462])\n",
    "# print (\"sky RGBA:\", pixels[94,462])\n",
    "# print (\"tree brightness:\", brightness[140][127])\n",
    "# print (\"tree RGBA:\", pixels[140,127])"
   ]
  },
  {
   "cell_type": "code",
   "execution_count": null,
   "metadata": {},
   "outputs": [],
   "source": []
  },
  {
   "cell_type": "code",
   "execution_count": 8,
   "metadata": {},
   "outputs": [],
   "source": [
    "\"\"\"\n",
    "K-means clustering to segment the image into 12 color class \n",
    "\n",
    "clustered.png is used as output\n",
    "\n",
    "\"\"\"\n",
    "\n",
    "\n",
    "file=(\"cropped.png\")\n",
    "\n",
    "\n",
    "img = cv2.imread(file)\n",
    "Z = img.reshape((-1,3))#reshape array into n rows and 3 colunms\n",
    "\n",
    "# convert to np.float32\n",
    "Z = np.float32(Z)\n",
    "\n",
    "# define criteria, number of clusters(K) and apply kmeans()\n",
    "criteria = (cv2.TERM_CRITERIA_EPS + cv2.TERM_CRITERIA_MAX_ITER, 10, 1.0)\n",
    "K = 12 #number of clusters\n",
    "ret,label,center=cv2.kmeans(Z,K,None,criteria,10,cv2.KMEANS_RANDOM_CENTERS)\n",
    "\n",
    "# Now convert back into uint8, and make original image\n",
    "center = np.uint8(center)\n",
    "res = center[label.flatten()]\n",
    "label2=label.reshape((len(img),len(img[0]))) #save the label into 2D array corresponde to image shape\n",
    "res2 = res.reshape((img.shape))\n",
    "result = Image.fromarray(res2.astype(np.uint8))\n",
    "result.save(\"clustered.png\")\n",
    "# cv2.imshow('res2',res2)\n",
    "# cv2.waitKey(0)\n",
    "# cv2.destroyAllWindows()"
   ]
  },
  {
   "cell_type": "code",
   "execution_count": 11,
   "metadata": {},
   "outputs": [
    {
     "name": "stdout",
     "output_type": "stream",
     "text": [
      "(106, 425, 3)\n",
      "(106, 425)\n",
      "[ 1  1  1  1  1  1  8  8  8  8  8  8  8  8  8  8  8  8  8  1  8  8  1  8\n",
      "  1  1  8  8  8  8  8  8 11  8  8  8 11 11 11 11 11 11  8 11 11 11 11 11\n",
      " 11 11 11 11 11 11 11 11 11 11 11 11 11 11 11 11 11 11 11 11 11 11 11 11\n",
      " 11 11 11 11 11 11 11 11 11 11 11 11 11 11 11 11 11 11 11 11 11 11 11 11\n",
      " 11 11 11  8  8  8  8  8  8  8]\n"
     ]
    }
   ],
   "source": [
    "print (np.shape(res2))\n",
    "print (np.shape(label2))\n",
    "print (label2[:,0])"
   ]
  },
  {
   "cell_type": "code",
   "execution_count": null,
   "metadata": {},
   "outputs": [],
   "source": [
    "# RED = 0\n",
    "# GREEN = 1\n",
    "# BLUE = 2\n",
    "\n",
    "# data = np.asarray(image,dtype=\"int32\")\n",
    "# print (np.shape(data))\n",
    "# for i in range(len(brightness)):\n",
    "#     for j in range(len(brightness[0])):\n",
    "#         if brightness[i][j] >=190 and brightness[i][j]<=255:\n",
    "#             data[i, j, GREEN] = 255\n",
    "#             data[i, j, RED] = 255\n",
    "#             data[i, j, BLUE] = 255\n",
    "#         else:\n",
    "#             if brightness[i][j]>=125:\n",
    "#                 data[i, j, GREEN] = 0\n",
    "#                 data[i, j, RED] = 0\n",
    "#                 data[i, j, BLUE] = 255\n",
    "#             else:\n",
    "#                 continue\n",
    "# result = Image.fromarray(data.astype(np.uint8))\n",
    "# result.save(\"sky&cloud.png\")"
   ]
  }
 ],
 "metadata": {
  "kernelspec": {
   "display_name": "Python 3",
   "language": "python",
   "name": "python3"
  },
  "language_info": {
   "codemirror_mode": {
    "name": "ipython",
    "version": 3
   },
   "file_extension": ".py",
   "mimetype": "text/x-python",
   "name": "python",
   "nbconvert_exporter": "python",
   "pygments_lexer": "ipython3",
   "version": "3.6.5"
  }
 },
 "nbformat": 4,
 "nbformat_minor": 2
}
